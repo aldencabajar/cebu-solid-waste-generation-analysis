{
 "metadata": {
  "language_info": {
   "codemirror_mode": {
    "name": "ipython",
    "version": 3
   },
   "file_extension": ".py",
   "mimetype": "text/x-python",
   "name": "python",
   "nbconvert_exporter": "python",
   "pygments_lexer": "ipython3",
   "version": "3.8.5"
  },
  "orig_nbformat": 2,
  "kernelspec": {
   "name": "python385jvsc74a57bd0763ebc4010631ed08d9a618c86dc31e04d0f82e49b0318a6fb663d28880d54ca",
   "display_name": "Python 3.8.5 64-bit ('general_computing')"
  }
 },
 "nbformat": 4,
 "nbformat_minor": 2,
 "cells": [
  {
   "cell_type": "code",
   "execution_count": 2,
   "metadata": {},
   "outputs": [],
   "source": [
    "import pandas as pd \n",
    "import numpy as np \n",
    "import tabula"
   ]
  },
  {
   "source": [
    "Extracting household-level data from pdf. We do this page by page."
   ],
   "cell_type": "markdown",
   "metadata": {}
  },
  {
   "cell_type": "code",
   "execution_count": 3,
   "metadata": {},
   "outputs": [
    {
     "output_type": "stream",
     "name": "stderr",
     "text": [
      "Got stderr: Apr 29, 2021 4:46:05 PM org.apache.pdfbox.pdmodel.font.PDTrueTypeFont <init>\n",
      "WARNING: Using fallback font 'LiberationSans' for 'TimesNewRomanPSMT'\n",
      "Apr 29, 2021 4:46:05 PM org.apache.pdfbox.pdmodel.font.PDTrueTypeFont <init>\n",
      "WARNING: Using fallback font 'LiberationSans' for 'TimesNewRomanPS-BoldItalicMT'\n",
      "Apr 29, 2021 4:46:05 PM org.apache.pdfbox.pdmodel.font.PDTrueTypeFont <init>\n",
      "WARNING: Using fallback font 'LiberationSans' for 'ArialMT'\n",
      "Apr 29, 2021 4:46:05 PM org.apache.pdfbox.pdmodel.font.PDTrueTypeFont <init>\n",
      "WARNING: Using fallback font 'LiberationSans' for 'TimesNewRomanPS-BoldMT'\n",
      "\n",
      "Got stderr: Apr 29, 2021 4:46:08 PM org.apache.pdfbox.pdmodel.font.PDTrueTypeFont <init>\n",
      "WARNING: Using fallback font 'LiberationSans' for 'TimesNewRomanPSMT'\n",
      "\n",
      "Got stderr: Apr 29, 2021 4:46:11 PM org.apache.pdfbox.pdmodel.font.PDTrueTypeFont <init>\n",
      "WARNING: Using fallback font 'LiberationSans' for 'TimesNewRomanPSMT'\n",
      "\n"
     ]
    }
   ],
   "source": [
    "pdf_file = 'Cebu.Survey.Report[final].pdf'\n",
    "df1 = tabula.read_pdf(pdf_file, pages = \"21\")\n",
    "df2 = tabula.read_pdf(pdf_file, pages = \"22\")\n",
    "df3 = tabula.read_pdf(pdf_file, pages = \"23\")"
   ]
  },
  {
   "cell_type": "code",
   "execution_count": null,
   "metadata": {},
   "outputs": [],
   "source": [
    "def preprocess(df):\n",
    "    "
   ]
  },
  {
   "cell_type": "code",
   "execution_count": null,
   "metadata": {},
   "outputs": [],
   "source": [
    "tmp  = df2[2]\n",
    "# remove \"unnamed columns\"\n",
    "cols = tmp.columns[~tmp.columns.str.contains('Unnamed')]\n",
    "tmp =tmp[cols].dropna()\n",
    "tmp[tmp.iloc[:,0].str.contains('H/')]"
   ]
  },
  {
   "source": [
    "Reconstructing the table"
   ],
   "cell_type": "markdown",
   "metadata": {}
  },
  {
   "cell_type": "code",
   "execution_count": null,
   "metadata": {},
   "outputs": [],
   "source": [
    "d1[]"
   ]
  },
  {
   "cell_type": "code",
   "execution_count": 46,
   "metadata": {},
   "outputs": [
    {
     "output_type": "execute_result",
     "data": {
      "text/plain": [
       "    /H/12    5    2   1.  1.25    0  2.75   7.5  1.0  1,070\n",
       "0   /H/13  6.0  1.9  0.0  2.00  0.0  0.75   5.1  0.7    740\n",
       "1   /H/14  2.0  2.3  0.1  1.15  0.0  0.00   3.6  0.5    520\n",
       "2   /H/15  1.0  1.7  0.6  0.65  0.2  0.75   4.0  0.5    580\n",
       "3   /H/16  7.0  7.7  0.2  0.80  0.0  0.80   9.6  1.3  1,370\n",
       "4   /H/17  4.0  1.2  0.8  0.50  0.0  0.85   3.4  0.4    490\n",
       "6   /H/19  2.0  1.5  0.7  1.25  0.0  0.25   3.7  0.5    540\n",
       "7   /H/20  8.0  6.2  0.7  0.50  0.0  2.75  10.2  1.4  1,460\n",
       "11   /H/1  1.0  2.5  0.2  0.25  0.7  4.25   8.0  1.1  1,140\n",
       "12   /H/2  2.0  3.5  0.7  0.90  0.0  4.75   9.9  1.4  1,410\n",
       "13   /H/3  1.0  3.3  0.2  1.75  0.2  1.25   6.8  0.9    980\n",
       "14   /H/4  7.0  2.6  0.2  1.65  0.0  2.25   6.8  0.9    970\n",
       "16   /H/6  9.0  3.7  0.6  3.50  0.5  2.00  10.0  1.4  1,490\n",
       "17   /H/7  7.0  1.5  0.2  2.15  0.2  2.75   6.9  0.9    990\n",
       "18   /H/8  5.0  3.0  1.2  0.25  0.2  0.85   5.6  0.8    800\n",
       "20  /H/10  6.0  3.8  0.4  0.65  0.2  0.85   6.0  0.8    860\n",
       "24   /H/1  4.0  2.1  0.6  0.65  0.0  2.45   5.9  0.8    840\n",
       "25   /H/2  6.0  1.7  0.4  0.75  0.0  2.25   5.2  0.7    740\n",
       "26   /H/3  1.0  1.8  0.7  0.45  0.0  2.25   5.3  0.7    760\n",
       "27   /H/4  5.0  4.0  0.2  0.35  0.0  3.25   7.8  1.1  1,120\n",
       "28   /H/5  6.0  1.6  0.2  1.00  0.0  2.00   4.9  0.7    700\n",
       "29   /H/6  3.0  4.1  0.2  1.00  0.0  1.25   6.6  0.9    950\n",
       "30   /H/7  4.0  1.6  0.0  0.45  0.0  1.75   4.3  0.6    620\n",
       "31   /H/8  6.0  4.1  0.2  1.15  0.0  1.75   7.3  1.0  1,040\n",
       "32   /H/9  4.0  1.7  0.7  0.85  0.0  4.35   7.7  1.1  1,100\n",
       "34  /H/11  3.0  2.0  0.2  0.80  0.0  1.50   4.5  0.6    650\n",
       "35  /H/12  4.0  2.1  0.6  0.15  0.0  3.75   6.7  0.9    960\n",
       "37  /H/14  4.0  2.6  0.2  0.65  0.0  0.25   3.8  0.5    540\n",
       "38  /H/15  2.0  1.5  0.1  0.85  0.0  3.75   6.2  0.8    890\n",
       "39  /H/16  5.0  3.2  0.0  1.35  0.0  2.00   7.1  1.0  1,010\n",
       "40  /H/17  6.0  4.0  0.0  0.50  0.0  3.75   8.7  1.2  1,250\n",
       "41  /H/18  2.0  2.7  0.8  0.85  0.0  1.25   5.7  0.8    810\n",
       "42  /H/19  2.0  3.0  0.1  0.75  0.0  3.50   7.4  1.0  1,060\n",
       "43  /H/20  1.0  1.7  0.0  0.80  0.0  0.75   3.4  0.4    490\n",
       "47   /H/1  3.0  1.0  7.0  9.00  0.0  9.00  41.0  5.9  5,930\n",
       "52   /H/6  3.0  9.5  3.0  1.50  0.0  0.00  14.0  2.0  2,070\n",
       "56  /H/10  6.0  1.0  3.0  1.00  0.5  4.00   2.0  2.8  2,860"
      ],
      "text/html": "<div>\n<style scoped>\n    .dataframe tbody tr th:only-of-type {\n        vertical-align: middle;\n    }\n\n    .dataframe tbody tr th {\n        vertical-align: top;\n    }\n\n    .dataframe thead th {\n        text-align: right;\n    }\n</style>\n<table border=\"1\" class=\"dataframe\">\n  <thead>\n    <tr style=\"text-align: right;\">\n      <th></th>\n      <th>/H/12</th>\n      <th>5</th>\n      <th>2</th>\n      <th>1.</th>\n      <th>1.25</th>\n      <th>0</th>\n      <th>2.75</th>\n      <th>7.5</th>\n      <th>1.0</th>\n      <th>1,070</th>\n    </tr>\n  </thead>\n  <tbody>\n    <tr>\n      <th>0</th>\n      <td>/H/13</td>\n      <td>6.0</td>\n      <td>1.9</td>\n      <td>0.0</td>\n      <td>2.00</td>\n      <td>0.0</td>\n      <td>0.75</td>\n      <td>5.1</td>\n      <td>0.7</td>\n      <td>740</td>\n    </tr>\n    <tr>\n      <th>1</th>\n      <td>/H/14</td>\n      <td>2.0</td>\n      <td>2.3</td>\n      <td>0.1</td>\n      <td>1.15</td>\n      <td>0.0</td>\n      <td>0.00</td>\n      <td>3.6</td>\n      <td>0.5</td>\n      <td>520</td>\n    </tr>\n    <tr>\n      <th>2</th>\n      <td>/H/15</td>\n      <td>1.0</td>\n      <td>1.7</td>\n      <td>0.6</td>\n      <td>0.65</td>\n      <td>0.2</td>\n      <td>0.75</td>\n      <td>4.0</td>\n      <td>0.5</td>\n      <td>580</td>\n    </tr>\n    <tr>\n      <th>3</th>\n      <td>/H/16</td>\n      <td>7.0</td>\n      <td>7.7</td>\n      <td>0.2</td>\n      <td>0.80</td>\n      <td>0.0</td>\n      <td>0.80</td>\n      <td>9.6</td>\n      <td>1.3</td>\n      <td>1,370</td>\n    </tr>\n    <tr>\n      <th>4</th>\n      <td>/H/17</td>\n      <td>4.0</td>\n      <td>1.2</td>\n      <td>0.8</td>\n      <td>0.50</td>\n      <td>0.0</td>\n      <td>0.85</td>\n      <td>3.4</td>\n      <td>0.4</td>\n      <td>490</td>\n    </tr>\n    <tr>\n      <th>6</th>\n      <td>/H/19</td>\n      <td>2.0</td>\n      <td>1.5</td>\n      <td>0.7</td>\n      <td>1.25</td>\n      <td>0.0</td>\n      <td>0.25</td>\n      <td>3.7</td>\n      <td>0.5</td>\n      <td>540</td>\n    </tr>\n    <tr>\n      <th>7</th>\n      <td>/H/20</td>\n      <td>8.0</td>\n      <td>6.2</td>\n      <td>0.7</td>\n      <td>0.50</td>\n      <td>0.0</td>\n      <td>2.75</td>\n      <td>10.2</td>\n      <td>1.4</td>\n      <td>1,460</td>\n    </tr>\n    <tr>\n      <th>11</th>\n      <td>/H/1</td>\n      <td>1.0</td>\n      <td>2.5</td>\n      <td>0.2</td>\n      <td>0.25</td>\n      <td>0.7</td>\n      <td>4.25</td>\n      <td>8.0</td>\n      <td>1.1</td>\n      <td>1,140</td>\n    </tr>\n    <tr>\n      <th>12</th>\n      <td>/H/2</td>\n      <td>2.0</td>\n      <td>3.5</td>\n      <td>0.7</td>\n      <td>0.90</td>\n      <td>0.0</td>\n      <td>4.75</td>\n      <td>9.9</td>\n      <td>1.4</td>\n      <td>1,410</td>\n    </tr>\n    <tr>\n      <th>13</th>\n      <td>/H/3</td>\n      <td>1.0</td>\n      <td>3.3</td>\n      <td>0.2</td>\n      <td>1.75</td>\n      <td>0.2</td>\n      <td>1.25</td>\n      <td>6.8</td>\n      <td>0.9</td>\n      <td>980</td>\n    </tr>\n    <tr>\n      <th>14</th>\n      <td>/H/4</td>\n      <td>7.0</td>\n      <td>2.6</td>\n      <td>0.2</td>\n      <td>1.65</td>\n      <td>0.0</td>\n      <td>2.25</td>\n      <td>6.8</td>\n      <td>0.9</td>\n      <td>970</td>\n    </tr>\n    <tr>\n      <th>16</th>\n      <td>/H/6</td>\n      <td>9.0</td>\n      <td>3.7</td>\n      <td>0.6</td>\n      <td>3.50</td>\n      <td>0.5</td>\n      <td>2.00</td>\n      <td>10.0</td>\n      <td>1.4</td>\n      <td>1,490</td>\n    </tr>\n    <tr>\n      <th>17</th>\n      <td>/H/7</td>\n      <td>7.0</td>\n      <td>1.5</td>\n      <td>0.2</td>\n      <td>2.15</td>\n      <td>0.2</td>\n      <td>2.75</td>\n      <td>6.9</td>\n      <td>0.9</td>\n      <td>990</td>\n    </tr>\n    <tr>\n      <th>18</th>\n      <td>/H/8</td>\n      <td>5.0</td>\n      <td>3.0</td>\n      <td>1.2</td>\n      <td>0.25</td>\n      <td>0.2</td>\n      <td>0.85</td>\n      <td>5.6</td>\n      <td>0.8</td>\n      <td>800</td>\n    </tr>\n    <tr>\n      <th>20</th>\n      <td>/H/10</td>\n      <td>6.0</td>\n      <td>3.8</td>\n      <td>0.4</td>\n      <td>0.65</td>\n      <td>0.2</td>\n      <td>0.85</td>\n      <td>6.0</td>\n      <td>0.8</td>\n      <td>860</td>\n    </tr>\n    <tr>\n      <th>24</th>\n      <td>/H/1</td>\n      <td>4.0</td>\n      <td>2.1</td>\n      <td>0.6</td>\n      <td>0.65</td>\n      <td>0.0</td>\n      <td>2.45</td>\n      <td>5.9</td>\n      <td>0.8</td>\n      <td>840</td>\n    </tr>\n    <tr>\n      <th>25</th>\n      <td>/H/2</td>\n      <td>6.0</td>\n      <td>1.7</td>\n      <td>0.4</td>\n      <td>0.75</td>\n      <td>0.0</td>\n      <td>2.25</td>\n      <td>5.2</td>\n      <td>0.7</td>\n      <td>740</td>\n    </tr>\n    <tr>\n      <th>26</th>\n      <td>/H/3</td>\n      <td>1.0</td>\n      <td>1.8</td>\n      <td>0.7</td>\n      <td>0.45</td>\n      <td>0.0</td>\n      <td>2.25</td>\n      <td>5.3</td>\n      <td>0.7</td>\n      <td>760</td>\n    </tr>\n    <tr>\n      <th>27</th>\n      <td>/H/4</td>\n      <td>5.0</td>\n      <td>4.0</td>\n      <td>0.2</td>\n      <td>0.35</td>\n      <td>0.0</td>\n      <td>3.25</td>\n      <td>7.8</td>\n      <td>1.1</td>\n      <td>1,120</td>\n    </tr>\n    <tr>\n      <th>28</th>\n      <td>/H/5</td>\n      <td>6.0</td>\n      <td>1.6</td>\n      <td>0.2</td>\n      <td>1.00</td>\n      <td>0.0</td>\n      <td>2.00</td>\n      <td>4.9</td>\n      <td>0.7</td>\n      <td>700</td>\n    </tr>\n    <tr>\n      <th>29</th>\n      <td>/H/6</td>\n      <td>3.0</td>\n      <td>4.1</td>\n      <td>0.2</td>\n      <td>1.00</td>\n      <td>0.0</td>\n      <td>1.25</td>\n      <td>6.6</td>\n      <td>0.9</td>\n      <td>950</td>\n    </tr>\n    <tr>\n      <th>30</th>\n      <td>/H/7</td>\n      <td>4.0</td>\n      <td>1.6</td>\n      <td>0.0</td>\n      <td>0.45</td>\n      <td>0.0</td>\n      <td>1.75</td>\n      <td>4.3</td>\n      <td>0.6</td>\n      <td>620</td>\n    </tr>\n    <tr>\n      <th>31</th>\n      <td>/H/8</td>\n      <td>6.0</td>\n      <td>4.1</td>\n      <td>0.2</td>\n      <td>1.15</td>\n      <td>0.0</td>\n      <td>1.75</td>\n      <td>7.3</td>\n      <td>1.0</td>\n      <td>1,040</td>\n    </tr>\n    <tr>\n      <th>32</th>\n      <td>/H/9</td>\n      <td>4.0</td>\n      <td>1.7</td>\n      <td>0.7</td>\n      <td>0.85</td>\n      <td>0.0</td>\n      <td>4.35</td>\n      <td>7.7</td>\n      <td>1.1</td>\n      <td>1,100</td>\n    </tr>\n    <tr>\n      <th>34</th>\n      <td>/H/11</td>\n      <td>3.0</td>\n      <td>2.0</td>\n      <td>0.2</td>\n      <td>0.80</td>\n      <td>0.0</td>\n      <td>1.50</td>\n      <td>4.5</td>\n      <td>0.6</td>\n      <td>650</td>\n    </tr>\n    <tr>\n      <th>35</th>\n      <td>/H/12</td>\n      <td>4.0</td>\n      <td>2.1</td>\n      <td>0.6</td>\n      <td>0.15</td>\n      <td>0.0</td>\n      <td>3.75</td>\n      <td>6.7</td>\n      <td>0.9</td>\n      <td>960</td>\n    </tr>\n    <tr>\n      <th>37</th>\n      <td>/H/14</td>\n      <td>4.0</td>\n      <td>2.6</td>\n      <td>0.2</td>\n      <td>0.65</td>\n      <td>0.0</td>\n      <td>0.25</td>\n      <td>3.8</td>\n      <td>0.5</td>\n      <td>540</td>\n    </tr>\n    <tr>\n      <th>38</th>\n      <td>/H/15</td>\n      <td>2.0</td>\n      <td>1.5</td>\n      <td>0.1</td>\n      <td>0.85</td>\n      <td>0.0</td>\n      <td>3.75</td>\n      <td>6.2</td>\n      <td>0.8</td>\n      <td>890</td>\n    </tr>\n    <tr>\n      <th>39</th>\n      <td>/H/16</td>\n      <td>5.0</td>\n      <td>3.2</td>\n      <td>0.0</td>\n      <td>1.35</td>\n      <td>0.0</td>\n      <td>2.00</td>\n      <td>7.1</td>\n      <td>1.0</td>\n      <td>1,010</td>\n    </tr>\n    <tr>\n      <th>40</th>\n      <td>/H/17</td>\n      <td>6.0</td>\n      <td>4.0</td>\n      <td>0.0</td>\n      <td>0.50</td>\n      <td>0.0</td>\n      <td>3.75</td>\n      <td>8.7</td>\n      <td>1.2</td>\n      <td>1,250</td>\n    </tr>\n    <tr>\n      <th>41</th>\n      <td>/H/18</td>\n      <td>2.0</td>\n      <td>2.7</td>\n      <td>0.8</td>\n      <td>0.85</td>\n      <td>0.0</td>\n      <td>1.25</td>\n      <td>5.7</td>\n      <td>0.8</td>\n      <td>810</td>\n    </tr>\n    <tr>\n      <th>42</th>\n      <td>/H/19</td>\n      <td>2.0</td>\n      <td>3.0</td>\n      <td>0.1</td>\n      <td>0.75</td>\n      <td>0.0</td>\n      <td>3.50</td>\n      <td>7.4</td>\n      <td>1.0</td>\n      <td>1,060</td>\n    </tr>\n    <tr>\n      <th>43</th>\n      <td>/H/20</td>\n      <td>1.0</td>\n      <td>1.7</td>\n      <td>0.0</td>\n      <td>0.80</td>\n      <td>0.0</td>\n      <td>0.75</td>\n      <td>3.4</td>\n      <td>0.4</td>\n      <td>490</td>\n    </tr>\n    <tr>\n      <th>47</th>\n      <td>/H/1</td>\n      <td>3.0</td>\n      <td>1.0</td>\n      <td>7.0</td>\n      <td>9.00</td>\n      <td>0.0</td>\n      <td>9.00</td>\n      <td>41.0</td>\n      <td>5.9</td>\n      <td>5,930</td>\n    </tr>\n    <tr>\n      <th>52</th>\n      <td>/H/6</td>\n      <td>3.0</td>\n      <td>9.5</td>\n      <td>3.0</td>\n      <td>1.50</td>\n      <td>0.0</td>\n      <td>0.00</td>\n      <td>14.0</td>\n      <td>2.0</td>\n      <td>2,070</td>\n    </tr>\n    <tr>\n      <th>56</th>\n      <td>/H/10</td>\n      <td>6.0</td>\n      <td>1.0</td>\n      <td>3.0</td>\n      <td>1.00</td>\n      <td>0.5</td>\n      <td>4.00</td>\n      <td>2.0</td>\n      <td>2.8</td>\n      <td>2,860</td>\n    </tr>\n  </tbody>\n</table>\n</div>"
     },
     "metadata": {},
     "execution_count": 46
    }
   ],
   "source": [
    "# remove second column strings that do not have H/H\n",
    "# get relevant df only\n"
   ]
  },
  {
   "cell_type": "code",
   "execution_count": 19,
   "metadata": {},
   "outputs": [
    {
     "output_type": "execute_result",
     "data": {
      "text/plain": [
       "Index(['Unnamed: 0', 'Capital Site', 'Unnamed: 1', 'Unnamed: 2', '/H/members',\n",
       "       'Unnamed: 3', 'Unnamed: 4', 'Organi', 'Unnamed: 5', 'Unnamed: 6',\n",
       "       'Paper', 'Unnamed: 7', 'Unnamed: 8', 'lastic', 'Unnamed: 9',\n",
       "       'Unnamed: 10', 'eta', 'Unnamed: 11', 'Unnamed: 12', 'thers',\n",
       "       'Unnamed: 13', 'Unnamed: 14', 'otal (Kg)', 'Unnamed: 15', 'Unnamed: 16',\n",
       "       'v.Kg/per Day', 'Unnamed: 17', 'Unnamed: 18', 'v.g/per Day',\n",
       "       'Unnamed: 19'],\n",
       "      dtype='object')"
      ]
     },
     "metadata": {},
     "execution_count": 19
    }
   ],
   "source": [
    "df1[2].columns"
   ]
  },
  {
   "cell_type": "code",
   "execution_count": null,
   "metadata": {},
   "outputs": [],
   "source": []
  }
 ]
}