{
 "metadata": {
  "language_info": {
   "codemirror_mode": {
    "name": "ipython",
    "version": 3
   },
   "file_extension": ".py",
   "mimetype": "text/x-python",
   "name": "python",
   "nbconvert_exporter": "python",
   "pygments_lexer": "ipython3",
   "version": "3.8.5"
  },
  "orig_nbformat": 2,
  "kernelspec": {
   "name": "python385jvsc74a57bd0763ebc4010631ed08d9a618c86dc31e04d0f82e49b0318a6fb663d28880d54ca",
   "display_name": "Python 3.8.5 64-bit ('general_computing')"
  }
 },
 "nbformat": 4,
 "nbformat_minor": 2,
 "cells": [
  {
   "cell_type": "code",
   "execution_count": 217,
   "metadata": {},
   "outputs": [],
   "source": [
    "import pandas as pd \n",
    "import numpy as np \n",
    "import tabula"
   ]
  },
  {
   "cell_type": "code",
   "execution_count": null,
   "metadata": {},
   "outputs": [],
   "source": []
  },
  {
   "cell_type": "code",
   "execution_count": 2,
   "metadata": {},
   "outputs": [
    {
     "output_type": "stream",
     "name": "stderr",
     "text": [
      "Got stderr: May 01, 2021 7:22:02 PM org.apache.pdfbox.pdmodel.font.PDTrueTypeFont <init>\n",
      "WARNING: Using fallback font 'LiberationSans' for 'TimesNewRomanPSMT'\n",
      "May 01, 2021 7:22:02 PM org.apache.pdfbox.pdmodel.font.PDTrueTypeFont <init>\n",
      "WARNING: Using fallback font 'LiberationSans' for 'TimesNewRomanPS-BoldItalicMT'\n",
      "May 01, 2021 7:22:02 PM org.apache.pdfbox.pdmodel.font.PDTrueTypeFont <init>\n",
      "WARNING: Using fallback font 'LiberationSans' for 'ArialMT'\n",
      "May 01, 2021 7:22:02 PM org.apache.pdfbox.pdmodel.font.PDTrueTypeFont <init>\n",
      "WARNING: Using fallback font 'LiberationSans' for 'TimesNewRomanPS-BoldMT'\n",
      "\n",
      "Got stderr: May 01, 2021 7:22:05 PM org.apache.pdfbox.pdmodel.font.PDTrueTypeFont <init>\n",
      "WARNING: Using fallback font 'LiberationSans' for 'TimesNewRomanPSMT'\n",
      "\n",
      "Got stderr: May 01, 2021 7:22:09 PM org.apache.pdfbox.pdmodel.font.PDTrueTypeFont <init>\n",
      "WARNING: Using fallback font 'LiberationSans' for 'TimesNewRomanPSMT'\n",
      "\n"
     ]
    }
   ],
   "source": [
    "pdf_file = 'Cebu.Survey.Report[final].pdf'\n",
    "df1 = tabula.read_pdf(pdf_file, pages = \"21\")\n",
    "df2 = tabula.read_pdf(pdf_file, pages = \"22\")\n",
    "df3 = tabula.read_pdf(pdf_file, pages = \"23\")"
   ]
  },
  {
   "cell_type": "code",
   "execution_count": 97,
   "metadata": {},
   "outputs": [],
   "source": [
    "def identify_null_pct(srs):\n",
    "    num_na = srs.isna().sum()\n",
    "    return num_na/srs.shape[0] < 0.5\n"
   ]
  },
  {
   "cell_type": "code",
   "execution_count": 214,
   "metadata": {},
   "outputs": [],
   "source": [
    "def preprocess(df):\n",
    "    #identify object columns\n",
    "    df = df[2].copy()\n",
    "    obj_cols = df.columns[df.dtypes == 'object']\n",
    "    # identify the column that contains '/H/' this contains the names of the households\n",
    "    h_col = obj_cols[df.loc[:, obj_cols].apply(lambda x: x.str.contains('/H').any())]\n",
    "    # only consider columns that are > 10% non-null\n",
    "    non_nan_cols = df.columns[df.apply(identify_null_pct)]\n",
    "    fnl = df.loc[:, non_nan_cols]\n",
    "    # remove last two columns (kg per day and g per day)\n",
    "    fnl = fnl.iloc[:,:-2]\n",
    "    return fnl\n",
    "\n",
    "\n",
    "    "
   ]
  },
  {
   "cell_type": "code",
   "execution_count": 215,
   "metadata": {},
   "outputs": [
    {
     "output_type": "execute_result",
     "data": {
      "text/plain": [
       "   Unnamed: 1 Unnamed: 4  Unnamed: 6  Unnamed: 8  Unnamed: 10  Unnamed: 12  \\\n",
       "0    amputhaw        NaN         NaN         NaN          NaN          NaN   \n",
       "1        /H/1          5         6.5         1.2         2.00          0.0   \n",
       "2        /H/2          5         3.0         2.0         2.50          0.0   \n",
       "3        /H/3          2         6.0         1.7         1.25          0.0   \n",
       "4        /H/4          5         2.0         NaN         0.00          0.0   \n",
       "5        /H/5          4         6.2         2.0         2.50          0.0   \n",
       "6        /H/6          2         2.0         2.0         2.50          0.0   \n",
       "7        /H/7          6         6.0         2.0         2.60          0.0   \n",
       "8        /H/8          3         2.7         2.0         2.50          2.0   \n",
       "9        /H/9          9         0.0         NaN         0.00          0.0   \n",
       "10      /H/10          5         5.5         2.0         2.50          0.0   \n",
       "11      /H/11          4         5.0         2.0         2.50          3.0   \n",
       "12      /H/12          7         5.7         2.0         2.50          0.0   \n",
       "13      /H/13          3         3.0         2.0         2.50          4.0   \n",
       "14   otal, Kg        NaN         NaN         NaN          NaN          NaN   \n",
       "15        NaN        NaN         NaN         NaN          NaN          NaN   \n",
       "16      inago        NaN         NaN         NaN          NaN          NaN   \n",
       "17       /H/1          3         8.5         5.0         5.50          0.0   \n",
       "18       /H/2          7         1.0         NaN         8.00          0.0   \n",
       "19       /H/3          5         9.0         6.0         7.50          0.0   \n",
       "20       /H/4          2         9.5         NaN         8.50          0.0   \n",
       "21       /H/5          2         8.0         NaN         9.00          0.0   \n",
       "22       /H/6          4         7.5         NaN         8.50          0.0   \n",
       "23       /H/7          5         9.0         NaN         7.50          0.0   \n",
       "24       /H/8          5         7.5         7.0         6.50          0.0   \n",
       "25       /H/9          3         9.5         NaN         7.00          0.0   \n",
       "26      /H/10          3         9.0         NaN         7.00          0.0   \n",
       "27      /H/11          4         7.5         NaN         6.00          0.0   \n",
       "28   otal, Kg        NaN         NaN         NaN          NaN          NaN   \n",
       "29        NaN        NaN         NaN         NaN          NaN          NaN   \n",
       "30       uiot        NaN         NaN         NaN          NaN          NaN   \n",
       "31       /H/1          2         1.1         0.0         1.00          0.1   \n",
       "32       /H/2          2         1.6         0.0         1.50          0.0   \n",
       "33       /H/3          1         2.0         1.0         2.50          0.0   \n",
       "34       /H/4          5         6.0         0.7         3.00          0.0   \n",
       "35       /H/5          3         1.0         1.2         0.25          0.1   \n",
       "36       /H/6          1         1.3         0.0         2.30          2.0   \n",
       "37       /H/7          3         4.2         1.0         0.60          0.1   \n",
       "38       /H/8          2         1.8         0.0         0.20          1.1   \n",
       "39       /H/9          2         1.5         0.7         0.30          0.0   \n",
       "40      /H/10          1         6.8         0.0         1.35          0.1   \n",
       "41      /H/11          6         0.8         0.0         0.80          0.0   \n",
       "42      /H/12          8         3.7         1.2         0.35          0.0   \n",
       "43      /H/13          6         3.5         NaN         0.15          0.1   \n",
       "44      /H/14          2         0.5         0.7         0.50          0.0   \n",
       "45      /H/15          3         1.0         1.0         0.50          0.7   \n",
       "46      /H/16          5         1.5         0.1         1.30          0.0   \n",
       "47      /H/17          4         0.7         0.0         0.15          0.1   \n",
       "48      /H/18          6         3.3         0.0         1.30          0.7   \n",
       "49      /H/19          1         1.6         NaN         1.30          0.3   \n",
       "50   otal, Kg        NaN         NaN         NaN          NaN          NaN   \n",
       "51        NaN        17%       100.0         NaN          NaN          NaN   \n",
       "\n",
       "    Unnamed: 14  Unnamed: 16  \n",
       "0           NaN          NaN  \n",
       "1          0.00          9.7  \n",
       "2          0.00          8.0  \n",
       "3          0.00          9.0  \n",
       "4          0.00          2.0  \n",
       "5          0.00         11.2  \n",
       "6          0.00          7.0  \n",
       "7          0.00         11.0  \n",
       "8          0.00          9.7  \n",
       "9          3.00          3.0  \n",
       "10         0.00         10.0  \n",
       "11         0.00          1.0  \n",
       "12         0.00         10.7  \n",
       "13         0.00          1.0  \n",
       "14          NaN          NaN  \n",
       "15          NaN          NaN  \n",
       "16          NaN          NaN  \n",
       "17        12.00         31.0  \n",
       "18        12.00          4.0  \n",
       "19        13.00          3.0  \n",
       "20        12.00          3.0  \n",
       "21        15.00          4.0  \n",
       "22        12.00          3.0  \n",
       "23        11.00         32.0  \n",
       "24        10.00         31.0  \n",
       "25        12.00         34.0  \n",
       "26        12.00          3.0  \n",
       "27        11.00         32.0  \n",
       "28          NaN          NaN  \n",
       "29          NaN          NaN  \n",
       "30          NaN          NaN  \n",
       "31         4.25          7.3  \n",
       "32         0.75          4.4  \n",
       "33         1.25          7.2  \n",
       "34         0.15          9.9  \n",
       "35         0.10          2.7  \n",
       "36         1.60          7.8  \n",
       "37         2.00          8.5  \n",
       "38         0.75          4.1  \n",
       "39         1.25          3.8  \n",
       "40         0.75          9.5  \n",
       "41         2.75          4.6  \n",
       "42         0.00          5.3  \n",
       "43         1.30          6.1  \n",
       "44         2.50          4.2  \n",
       "45         1.75          5.3  \n",
       "46         1.25          4.2  \n",
       "47         0.80          2.3  \n",
       "48         3.00          8.9  \n",
       "49         2.50          6.7  \n",
       "50          NaN          NaN  \n",
       "51          NaN          NaN  "
      ],
      "text/html": "<div>\n<style scoped>\n    .dataframe tbody tr th:only-of-type {\n        vertical-align: middle;\n    }\n\n    .dataframe tbody tr th {\n        vertical-align: top;\n    }\n\n    .dataframe thead th {\n        text-align: right;\n    }\n</style>\n<table border=\"1\" class=\"dataframe\">\n  <thead>\n    <tr style=\"text-align: right;\">\n      <th></th>\n      <th>Unnamed: 1</th>\n      <th>Unnamed: 4</th>\n      <th>Unnamed: 6</th>\n      <th>Unnamed: 8</th>\n      <th>Unnamed: 10</th>\n      <th>Unnamed: 12</th>\n      <th>Unnamed: 14</th>\n      <th>Unnamed: 16</th>\n    </tr>\n  </thead>\n  <tbody>\n    <tr>\n      <th>0</th>\n      <td>amputhaw</td>\n      <td>NaN</td>\n      <td>NaN</td>\n      <td>NaN</td>\n      <td>NaN</td>\n      <td>NaN</td>\n      <td>NaN</td>\n      <td>NaN</td>\n    </tr>\n    <tr>\n      <th>1</th>\n      <td>/H/1</td>\n      <td>5</td>\n      <td>6.5</td>\n      <td>1.2</td>\n      <td>2.00</td>\n      <td>0.0</td>\n      <td>0.00</td>\n      <td>9.7</td>\n    </tr>\n    <tr>\n      <th>2</th>\n      <td>/H/2</td>\n      <td>5</td>\n      <td>3.0</td>\n      <td>2.0</td>\n      <td>2.50</td>\n      <td>0.0</td>\n      <td>0.00</td>\n      <td>8.0</td>\n    </tr>\n    <tr>\n      <th>3</th>\n      <td>/H/3</td>\n      <td>2</td>\n      <td>6.0</td>\n      <td>1.7</td>\n      <td>1.25</td>\n      <td>0.0</td>\n      <td>0.00</td>\n      <td>9.0</td>\n    </tr>\n    <tr>\n      <th>4</th>\n      <td>/H/4</td>\n      <td>5</td>\n      <td>2.0</td>\n      <td>NaN</td>\n      <td>0.00</td>\n      <td>0.0</td>\n      <td>0.00</td>\n      <td>2.0</td>\n    </tr>\n    <tr>\n      <th>5</th>\n      <td>/H/5</td>\n      <td>4</td>\n      <td>6.2</td>\n      <td>2.0</td>\n      <td>2.50</td>\n      <td>0.0</td>\n      <td>0.00</td>\n      <td>11.2</td>\n    </tr>\n    <tr>\n      <th>6</th>\n      <td>/H/6</td>\n      <td>2</td>\n      <td>2.0</td>\n      <td>2.0</td>\n      <td>2.50</td>\n      <td>0.0</td>\n      <td>0.00</td>\n      <td>7.0</td>\n    </tr>\n    <tr>\n      <th>7</th>\n      <td>/H/7</td>\n      <td>6</td>\n      <td>6.0</td>\n      <td>2.0</td>\n      <td>2.60</td>\n      <td>0.0</td>\n      <td>0.00</td>\n      <td>11.0</td>\n    </tr>\n    <tr>\n      <th>8</th>\n      <td>/H/8</td>\n      <td>3</td>\n      <td>2.7</td>\n      <td>2.0</td>\n      <td>2.50</td>\n      <td>2.0</td>\n      <td>0.00</td>\n      <td>9.7</td>\n    </tr>\n    <tr>\n      <th>9</th>\n      <td>/H/9</td>\n      <td>9</td>\n      <td>0.0</td>\n      <td>NaN</td>\n      <td>0.00</td>\n      <td>0.0</td>\n      <td>3.00</td>\n      <td>3.0</td>\n    </tr>\n    <tr>\n      <th>10</th>\n      <td>/H/10</td>\n      <td>5</td>\n      <td>5.5</td>\n      <td>2.0</td>\n      <td>2.50</td>\n      <td>0.0</td>\n      <td>0.00</td>\n      <td>10.0</td>\n    </tr>\n    <tr>\n      <th>11</th>\n      <td>/H/11</td>\n      <td>4</td>\n      <td>5.0</td>\n      <td>2.0</td>\n      <td>2.50</td>\n      <td>3.0</td>\n      <td>0.00</td>\n      <td>1.0</td>\n    </tr>\n    <tr>\n      <th>12</th>\n      <td>/H/12</td>\n      <td>7</td>\n      <td>5.7</td>\n      <td>2.0</td>\n      <td>2.50</td>\n      <td>0.0</td>\n      <td>0.00</td>\n      <td>10.7</td>\n    </tr>\n    <tr>\n      <th>13</th>\n      <td>/H/13</td>\n      <td>3</td>\n      <td>3.0</td>\n      <td>2.0</td>\n      <td>2.50</td>\n      <td>4.0</td>\n      <td>0.00</td>\n      <td>1.0</td>\n    </tr>\n    <tr>\n      <th>14</th>\n      <td>otal, Kg</td>\n      <td>NaN</td>\n      <td>NaN</td>\n      <td>NaN</td>\n      <td>NaN</td>\n      <td>NaN</td>\n      <td>NaN</td>\n      <td>NaN</td>\n    </tr>\n    <tr>\n      <th>15</th>\n      <td>NaN</td>\n      <td>NaN</td>\n      <td>NaN</td>\n      <td>NaN</td>\n      <td>NaN</td>\n      <td>NaN</td>\n      <td>NaN</td>\n      <td>NaN</td>\n    </tr>\n    <tr>\n      <th>16</th>\n      <td>inago</td>\n      <td>NaN</td>\n      <td>NaN</td>\n      <td>NaN</td>\n      <td>NaN</td>\n      <td>NaN</td>\n      <td>NaN</td>\n      <td>NaN</td>\n    </tr>\n    <tr>\n      <th>17</th>\n      <td>/H/1</td>\n      <td>3</td>\n      <td>8.5</td>\n      <td>5.0</td>\n      <td>5.50</td>\n      <td>0.0</td>\n      <td>12.00</td>\n      <td>31.0</td>\n    </tr>\n    <tr>\n      <th>18</th>\n      <td>/H/2</td>\n      <td>7</td>\n      <td>1.0</td>\n      <td>NaN</td>\n      <td>8.00</td>\n      <td>0.0</td>\n      <td>12.00</td>\n      <td>4.0</td>\n    </tr>\n    <tr>\n      <th>19</th>\n      <td>/H/3</td>\n      <td>5</td>\n      <td>9.0</td>\n      <td>6.0</td>\n      <td>7.50</td>\n      <td>0.0</td>\n      <td>13.00</td>\n      <td>3.0</td>\n    </tr>\n    <tr>\n      <th>20</th>\n      <td>/H/4</td>\n      <td>2</td>\n      <td>9.5</td>\n      <td>NaN</td>\n      <td>8.50</td>\n      <td>0.0</td>\n      <td>12.00</td>\n      <td>3.0</td>\n    </tr>\n    <tr>\n      <th>21</th>\n      <td>/H/5</td>\n      <td>2</td>\n      <td>8.0</td>\n      <td>NaN</td>\n      <td>9.00</td>\n      <td>0.0</td>\n      <td>15.00</td>\n      <td>4.0</td>\n    </tr>\n    <tr>\n      <th>22</th>\n      <td>/H/6</td>\n      <td>4</td>\n      <td>7.5</td>\n      <td>NaN</td>\n      <td>8.50</td>\n      <td>0.0</td>\n      <td>12.00</td>\n      <td>3.0</td>\n    </tr>\n    <tr>\n      <th>23</th>\n      <td>/H/7</td>\n      <td>5</td>\n      <td>9.0</td>\n      <td>NaN</td>\n      <td>7.50</td>\n      <td>0.0</td>\n      <td>11.00</td>\n      <td>32.0</td>\n    </tr>\n    <tr>\n      <th>24</th>\n      <td>/H/8</td>\n      <td>5</td>\n      <td>7.5</td>\n      <td>7.0</td>\n      <td>6.50</td>\n      <td>0.0</td>\n      <td>10.00</td>\n      <td>31.0</td>\n    </tr>\n    <tr>\n      <th>25</th>\n      <td>/H/9</td>\n      <td>3</td>\n      <td>9.5</td>\n      <td>NaN</td>\n      <td>7.00</td>\n      <td>0.0</td>\n      <td>12.00</td>\n      <td>34.0</td>\n    </tr>\n    <tr>\n      <th>26</th>\n      <td>/H/10</td>\n      <td>3</td>\n      <td>9.0</td>\n      <td>NaN</td>\n      <td>7.00</td>\n      <td>0.0</td>\n      <td>12.00</td>\n      <td>3.0</td>\n    </tr>\n    <tr>\n      <th>27</th>\n      <td>/H/11</td>\n      <td>4</td>\n      <td>7.5</td>\n      <td>NaN</td>\n      <td>6.00</td>\n      <td>0.0</td>\n      <td>11.00</td>\n      <td>32.0</td>\n    </tr>\n    <tr>\n      <th>28</th>\n      <td>otal, Kg</td>\n      <td>NaN</td>\n      <td>NaN</td>\n      <td>NaN</td>\n      <td>NaN</td>\n      <td>NaN</td>\n      <td>NaN</td>\n      <td>NaN</td>\n    </tr>\n    <tr>\n      <th>29</th>\n      <td>NaN</td>\n      <td>NaN</td>\n      <td>NaN</td>\n      <td>NaN</td>\n      <td>NaN</td>\n      <td>NaN</td>\n      <td>NaN</td>\n      <td>NaN</td>\n    </tr>\n    <tr>\n      <th>30</th>\n      <td>uiot</td>\n      <td>NaN</td>\n      <td>NaN</td>\n      <td>NaN</td>\n      <td>NaN</td>\n      <td>NaN</td>\n      <td>NaN</td>\n      <td>NaN</td>\n    </tr>\n    <tr>\n      <th>31</th>\n      <td>/H/1</td>\n      <td>2</td>\n      <td>1.1</td>\n      <td>0.0</td>\n      <td>1.00</td>\n      <td>0.1</td>\n      <td>4.25</td>\n      <td>7.3</td>\n    </tr>\n    <tr>\n      <th>32</th>\n      <td>/H/2</td>\n      <td>2</td>\n      <td>1.6</td>\n      <td>0.0</td>\n      <td>1.50</td>\n      <td>0.0</td>\n      <td>0.75</td>\n      <td>4.4</td>\n    </tr>\n    <tr>\n      <th>33</th>\n      <td>/H/3</td>\n      <td>1</td>\n      <td>2.0</td>\n      <td>1.0</td>\n      <td>2.50</td>\n      <td>0.0</td>\n      <td>1.25</td>\n      <td>7.2</td>\n    </tr>\n    <tr>\n      <th>34</th>\n      <td>/H/4</td>\n      <td>5</td>\n      <td>6.0</td>\n      <td>0.7</td>\n      <td>3.00</td>\n      <td>0.0</td>\n      <td>0.15</td>\n      <td>9.9</td>\n    </tr>\n    <tr>\n      <th>35</th>\n      <td>/H/5</td>\n      <td>3</td>\n      <td>1.0</td>\n      <td>1.2</td>\n      <td>0.25</td>\n      <td>0.1</td>\n      <td>0.10</td>\n      <td>2.7</td>\n    </tr>\n    <tr>\n      <th>36</th>\n      <td>/H/6</td>\n      <td>1</td>\n      <td>1.3</td>\n      <td>0.0</td>\n      <td>2.30</td>\n      <td>2.0</td>\n      <td>1.60</td>\n      <td>7.8</td>\n    </tr>\n    <tr>\n      <th>37</th>\n      <td>/H/7</td>\n      <td>3</td>\n      <td>4.2</td>\n      <td>1.0</td>\n      <td>0.60</td>\n      <td>0.1</td>\n      <td>2.00</td>\n      <td>8.5</td>\n    </tr>\n    <tr>\n      <th>38</th>\n      <td>/H/8</td>\n      <td>2</td>\n      <td>1.8</td>\n      <td>0.0</td>\n      <td>0.20</td>\n      <td>1.1</td>\n      <td>0.75</td>\n      <td>4.1</td>\n    </tr>\n    <tr>\n      <th>39</th>\n      <td>/H/9</td>\n      <td>2</td>\n      <td>1.5</td>\n      <td>0.7</td>\n      <td>0.30</td>\n      <td>0.0</td>\n      <td>1.25</td>\n      <td>3.8</td>\n    </tr>\n    <tr>\n      <th>40</th>\n      <td>/H/10</td>\n      <td>1</td>\n      <td>6.8</td>\n      <td>0.0</td>\n      <td>1.35</td>\n      <td>0.1</td>\n      <td>0.75</td>\n      <td>9.5</td>\n    </tr>\n    <tr>\n      <th>41</th>\n      <td>/H/11</td>\n      <td>6</td>\n      <td>0.8</td>\n      <td>0.0</td>\n      <td>0.80</td>\n      <td>0.0</td>\n      <td>2.75</td>\n      <td>4.6</td>\n    </tr>\n    <tr>\n      <th>42</th>\n      <td>/H/12</td>\n      <td>8</td>\n      <td>3.7</td>\n      <td>1.2</td>\n      <td>0.35</td>\n      <td>0.0</td>\n      <td>0.00</td>\n      <td>5.3</td>\n    </tr>\n    <tr>\n      <th>43</th>\n      <td>/H/13</td>\n      <td>6</td>\n      <td>3.5</td>\n      <td>NaN</td>\n      <td>0.15</td>\n      <td>0.1</td>\n      <td>1.30</td>\n      <td>6.1</td>\n    </tr>\n    <tr>\n      <th>44</th>\n      <td>/H/14</td>\n      <td>2</td>\n      <td>0.5</td>\n      <td>0.7</td>\n      <td>0.50</td>\n      <td>0.0</td>\n      <td>2.50</td>\n      <td>4.2</td>\n    </tr>\n    <tr>\n      <th>45</th>\n      <td>/H/15</td>\n      <td>3</td>\n      <td>1.0</td>\n      <td>1.0</td>\n      <td>0.50</td>\n      <td>0.7</td>\n      <td>1.75</td>\n      <td>5.3</td>\n    </tr>\n    <tr>\n      <th>46</th>\n      <td>/H/16</td>\n      <td>5</td>\n      <td>1.5</td>\n      <td>0.1</td>\n      <td>1.30</td>\n      <td>0.0</td>\n      <td>1.25</td>\n      <td>4.2</td>\n    </tr>\n    <tr>\n      <th>47</th>\n      <td>/H/17</td>\n      <td>4</td>\n      <td>0.7</td>\n      <td>0.0</td>\n      <td>0.15</td>\n      <td>0.1</td>\n      <td>0.80</td>\n      <td>2.3</td>\n    </tr>\n    <tr>\n      <th>48</th>\n      <td>/H/18</td>\n      <td>6</td>\n      <td>3.3</td>\n      <td>0.0</td>\n      <td>1.30</td>\n      <td>0.7</td>\n      <td>3.00</td>\n      <td>8.9</td>\n    </tr>\n    <tr>\n      <th>49</th>\n      <td>/H/19</td>\n      <td>1</td>\n      <td>1.6</td>\n      <td>NaN</td>\n      <td>1.30</td>\n      <td>0.3</td>\n      <td>2.50</td>\n      <td>6.7</td>\n    </tr>\n    <tr>\n      <th>50</th>\n      <td>otal, Kg</td>\n      <td>NaN</td>\n      <td>NaN</td>\n      <td>NaN</td>\n      <td>NaN</td>\n      <td>NaN</td>\n      <td>NaN</td>\n      <td>NaN</td>\n    </tr>\n    <tr>\n      <th>51</th>\n      <td>NaN</td>\n      <td>17%</td>\n      <td>100.0</td>\n      <td>NaN</td>\n      <td>NaN</td>\n      <td>NaN</td>\n      <td>NaN</td>\n      <td>NaN</td>\n    </tr>\n  </tbody>\n</table>\n</div>"
     },
     "metadata": {},
     "execution_count": 215
    }
   ],
   "source": [
    "preprocess(df3)"
   ]
  },
  {
   "source": [
    "We then process each dataframe one by one since there are some nuances in the data structure. For df1, we just replace the columns with the real column names."
   ],
   "cell_type": "markdown",
   "metadata": {}
  },
  {
   "cell_type": "code",
   "execution_count": 209,
   "metadata": {},
   "outputs": [],
   "source": [
    "df_proc_dict = {i : preprocess(df).reset_index(drop = True) for i, df in enumerate([df1, df2, df3])}\n",
    "# specify the column names and data types\n",
    "cols = {'hh_id': \"str\", \n",
    "        'hh_members': \"int32\", \n",
    "        'organic': \"float64\",\n",
    "        'paper': \"float64\",\n",
    "        'plastic': \"float64\", \n",
    "        'metal': \"float64\",\n",
    "        'others': \"float64\", \n",
    "        'total': \"float64\"}\n",
    "# for df1 and df3 rename columns\n",
    "df_proc_dict[0].columns = list(cols.keys())\n",
    "\n",
    "df_proc_dict[2].columns = list(cols.keys())\n",
    "df_proc_dict[0] = df_proc_dict[0].astype(dtype = cols)\n",
    "df_proc_dict[2] = df_proc_dict[2].astype(dtype = cols)\n",
    "# and remove whitespace for hh_id column in df1\n",
    "df_proc_dict[0]['hh_id'] = df_proc_dict[0]['hh_id'].str.replace(' ', '').str.strip()\n",
    "# add H/ in df2 and df3\n",
    "df_proc_dict[2]['hh_id'] = ['H' + i for i in df_proc_dict[2]['hh_id'].str.strip()]\n"
   ]
  },
  {
   "source": [
    "For df2, the first row seems to be real data. We extract this and put this at the top of the dataframe."
   ],
   "cell_type": "markdown",
   "metadata": {}
  },
  {
   "cell_type": "code",
   "execution_count": 210,
   "metadata": {},
   "outputs": [
    {
     "output_type": "execute_result",
     "data": {
      "text/plain": [
       "   /H/12    5    2   1.  1.25    0  2.75  7.5\n",
       "0  /H/13  6.0  1.9  0.0  2.00  0.0  0.75  5.1\n",
       "1  /H/14  2.0  2.3  0.1  1.15  0.0  0.00  3.6\n",
       "2  /H/15  1.0  1.7  0.6  0.65  0.2  0.75  4.0\n",
       "3  /H/16  7.0  7.7  0.2  0.80  0.0  0.80  9.6\n",
       "4  /H/17  4.0  1.2  0.8  0.50  0.0  0.85  3.4"
      ],
      "text/html": "<div>\n<style scoped>\n    .dataframe tbody tr th:only-of-type {\n        vertical-align: middle;\n    }\n\n    .dataframe tbody tr th {\n        vertical-align: top;\n    }\n\n    .dataframe thead th {\n        text-align: right;\n    }\n</style>\n<table border=\"1\" class=\"dataframe\">\n  <thead>\n    <tr style=\"text-align: right;\">\n      <th></th>\n      <th>/H/12</th>\n      <th>5</th>\n      <th>2</th>\n      <th>1.</th>\n      <th>1.25</th>\n      <th>0</th>\n      <th>2.75</th>\n      <th>7.5</th>\n    </tr>\n  </thead>\n  <tbody>\n    <tr>\n      <th>0</th>\n      <td>/H/13</td>\n      <td>6.0</td>\n      <td>1.9</td>\n      <td>0.0</td>\n      <td>2.00</td>\n      <td>0.0</td>\n      <td>0.75</td>\n      <td>5.1</td>\n    </tr>\n    <tr>\n      <th>1</th>\n      <td>/H/14</td>\n      <td>2.0</td>\n      <td>2.3</td>\n      <td>0.1</td>\n      <td>1.15</td>\n      <td>0.0</td>\n      <td>0.00</td>\n      <td>3.6</td>\n    </tr>\n    <tr>\n      <th>2</th>\n      <td>/H/15</td>\n      <td>1.0</td>\n      <td>1.7</td>\n      <td>0.6</td>\n      <td>0.65</td>\n      <td>0.2</td>\n      <td>0.75</td>\n      <td>4.0</td>\n    </tr>\n    <tr>\n      <th>3</th>\n      <td>/H/16</td>\n      <td>7.0</td>\n      <td>7.7</td>\n      <td>0.2</td>\n      <td>0.80</td>\n      <td>0.0</td>\n      <td>0.80</td>\n      <td>9.6</td>\n    </tr>\n    <tr>\n      <th>4</th>\n      <td>/H/17</td>\n      <td>4.0</td>\n      <td>1.2</td>\n      <td>0.8</td>\n      <td>0.50</td>\n      <td>0.0</td>\n      <td>0.85</td>\n      <td>3.4</td>\n    </tr>\n  </tbody>\n</table>\n</div>"
     },
     "metadata": {},
     "execution_count": 210
    }
   ],
   "source": [
    "# for df2, add the column name as the first row.\n",
    "tmp = df_proc_dict[1].copy()\n",
    "tmp.head()"
   ]
  },
  {
   "cell_type": "code",
   "execution_count": 211,
   "metadata": {},
   "outputs": [
    {
     "output_type": "execute_result",
     "data": {
      "text/plain": [
       "   hh_id hh_members organic paper plastic metal others total\n",
       "0  /H/12          5       2    1.    1.25     0   2.75   7.5\n",
       "1  /H/13        6.0     1.9   0.0     2.0   0.0   0.75   5.1\n",
       "2  /H/14        2.0     2.3   0.1    1.15   0.0    0.0   3.6\n",
       "3  /H/15        1.0     1.7   0.6    0.65   0.2   0.75   4.0\n",
       "4  /H/16        7.0     7.7   0.2     0.8   0.0    0.8   9.6"
      ],
      "text/html": "<div>\n<style scoped>\n    .dataframe tbody tr th:only-of-type {\n        vertical-align: middle;\n    }\n\n    .dataframe tbody tr th {\n        vertical-align: top;\n    }\n\n    .dataframe thead th {\n        text-align: right;\n    }\n</style>\n<table border=\"1\" class=\"dataframe\">\n  <thead>\n    <tr style=\"text-align: right;\">\n      <th></th>\n      <th>hh_id</th>\n      <th>hh_members</th>\n      <th>organic</th>\n      <th>paper</th>\n      <th>plastic</th>\n      <th>metal</th>\n      <th>others</th>\n      <th>total</th>\n    </tr>\n  </thead>\n  <tbody>\n    <tr>\n      <th>0</th>\n      <td>/H/12</td>\n      <td>5</td>\n      <td>2</td>\n      <td>1.</td>\n      <td>1.25</td>\n      <td>0</td>\n      <td>2.75</td>\n      <td>7.5</td>\n    </tr>\n    <tr>\n      <th>1</th>\n      <td>/H/13</td>\n      <td>6.0</td>\n      <td>1.9</td>\n      <td>0.0</td>\n      <td>2.0</td>\n      <td>0.0</td>\n      <td>0.75</td>\n      <td>5.1</td>\n    </tr>\n    <tr>\n      <th>2</th>\n      <td>/H/14</td>\n      <td>2.0</td>\n      <td>2.3</td>\n      <td>0.1</td>\n      <td>1.15</td>\n      <td>0.0</td>\n      <td>0.0</td>\n      <td>3.6</td>\n    </tr>\n    <tr>\n      <th>3</th>\n      <td>/H/15</td>\n      <td>1.0</td>\n      <td>1.7</td>\n      <td>0.6</td>\n      <td>0.65</td>\n      <td>0.2</td>\n      <td>0.75</td>\n      <td>4.0</td>\n    </tr>\n    <tr>\n      <th>4</th>\n      <td>/H/16</td>\n      <td>7.0</td>\n      <td>7.7</td>\n      <td>0.2</td>\n      <td>0.8</td>\n      <td>0.0</td>\n      <td>0.8</td>\n      <td>9.6</td>\n    </tr>\n  </tbody>\n</table>\n</div>"
     },
     "metadata": {},
     "execution_count": 211
    }
   ],
   "source": [
    "row1 = list(tmp.columns)\n",
    "# _dict = {col: dt for col, dt in zip(cols, row1)}\n",
    "tmp.columns = cols\n",
    "tmp.loc[-1] = row1\n",
    "tmp.index = tmp.index + 1\n",
    "tmp = tmp.sort_index()\n",
    "df_proc_dict[1] = tmp.astype(cols)\n",
    "# add H in hh_id\n",
    "df_proc_dict[1]['hh_id'] = ['H' + i for i in df_proc_dict[1]['hh_id']]\n",
    "tmp.head()"
   ]
  },
  {
   "cell_type": "code",
   "execution_count": 212,
   "metadata": {},
   "outputs": [
    {
     "output_type": "execute_result",
     "data": {
      "text/plain": [
       "     hh_id  hh_members  organic  paper  plastic  metal  others  total\n",
       "0    H/H/1           7      5.2    2.2     2.25    0.0    0.00    9.7\n",
       "1    H/H/2           4      6.5    2.0     2.25    0.0    5.00   16.2\n",
       "2   H/H/10           6      6.0    1.2     2.00    0.0    3.00   12.2\n",
       "3   H/H/11           8      5.5    3.1     2.00    0.0    0.00   10.6\n",
       "4   H/H/12           9      5.0    2.0     2.50    0.0    0.00    1.0\n",
       "..     ...         ...      ...    ...      ...    ...     ...    ...\n",
       "26  H/H/14           2      0.5    0.7     0.50    0.0    2.50    4.2\n",
       "27  H/H/15           3      1.0    1.0     0.50    0.7    1.75    5.3\n",
       "28  H/H/16           5      1.5    0.1     1.30    0.0    1.25    4.2\n",
       "29  H/H/17           4      0.7    0.0     0.15    0.1    0.80    2.3\n",
       "30  H/H/18           6      3.3    0.0     1.30    0.7    3.00    8.9\n",
       "\n",
       "[87 rows x 8 columns]"
      ],
      "text/html": "<div>\n<style scoped>\n    .dataframe tbody tr th:only-of-type {\n        vertical-align: middle;\n    }\n\n    .dataframe tbody tr th {\n        vertical-align: top;\n    }\n\n    .dataframe thead th {\n        text-align: right;\n    }\n</style>\n<table border=\"1\" class=\"dataframe\">\n  <thead>\n    <tr style=\"text-align: right;\">\n      <th></th>\n      <th>hh_id</th>\n      <th>hh_members</th>\n      <th>organic</th>\n      <th>paper</th>\n      <th>plastic</th>\n      <th>metal</th>\n      <th>others</th>\n      <th>total</th>\n    </tr>\n  </thead>\n  <tbody>\n    <tr>\n      <th>0</th>\n      <td>H/H/1</td>\n      <td>7</td>\n      <td>5.2</td>\n      <td>2.2</td>\n      <td>2.25</td>\n      <td>0.0</td>\n      <td>0.00</td>\n      <td>9.7</td>\n    </tr>\n    <tr>\n      <th>1</th>\n      <td>H/H/2</td>\n      <td>4</td>\n      <td>6.5</td>\n      <td>2.0</td>\n      <td>2.25</td>\n      <td>0.0</td>\n      <td>5.00</td>\n      <td>16.2</td>\n    </tr>\n    <tr>\n      <th>2</th>\n      <td>H/H/10</td>\n      <td>6</td>\n      <td>6.0</td>\n      <td>1.2</td>\n      <td>2.00</td>\n      <td>0.0</td>\n      <td>3.00</td>\n      <td>12.2</td>\n    </tr>\n    <tr>\n      <th>3</th>\n      <td>H/H/11</td>\n      <td>8</td>\n      <td>5.5</td>\n      <td>3.1</td>\n      <td>2.00</td>\n      <td>0.0</td>\n      <td>0.00</td>\n      <td>10.6</td>\n    </tr>\n    <tr>\n      <th>4</th>\n      <td>H/H/12</td>\n      <td>9</td>\n      <td>5.0</td>\n      <td>2.0</td>\n      <td>2.50</td>\n      <td>0.0</td>\n      <td>0.00</td>\n      <td>1.0</td>\n    </tr>\n    <tr>\n      <th>...</th>\n      <td>...</td>\n      <td>...</td>\n      <td>...</td>\n      <td>...</td>\n      <td>...</td>\n      <td>...</td>\n      <td>...</td>\n      <td>...</td>\n    </tr>\n    <tr>\n      <th>26</th>\n      <td>H/H/14</td>\n      <td>2</td>\n      <td>0.5</td>\n      <td>0.7</td>\n      <td>0.50</td>\n      <td>0.0</td>\n      <td>2.50</td>\n      <td>4.2</td>\n    </tr>\n    <tr>\n      <th>27</th>\n      <td>H/H/15</td>\n      <td>3</td>\n      <td>1.0</td>\n      <td>1.0</td>\n      <td>0.50</td>\n      <td>0.7</td>\n      <td>1.75</td>\n      <td>5.3</td>\n    </tr>\n    <tr>\n      <th>28</th>\n      <td>H/H/16</td>\n      <td>5</td>\n      <td>1.5</td>\n      <td>0.1</td>\n      <td>1.30</td>\n      <td>0.0</td>\n      <td>1.25</td>\n      <td>4.2</td>\n    </tr>\n    <tr>\n      <th>29</th>\n      <td>H/H/17</td>\n      <td>4</td>\n      <td>0.7</td>\n      <td>0.0</td>\n      <td>0.15</td>\n      <td>0.1</td>\n      <td>0.80</td>\n      <td>2.3</td>\n    </tr>\n    <tr>\n      <th>30</th>\n      <td>H/H/18</td>\n      <td>6</td>\n      <td>3.3</td>\n      <td>0.0</td>\n      <td>1.30</td>\n      <td>0.7</td>\n      <td>3.00</td>\n      <td>8.9</td>\n    </tr>\n  </tbody>\n</table>\n<p>87 rows × 8 columns</p>\n</div>"
     },
     "metadata": {},
     "execution_count": 212
    }
   ],
   "source": [
    "pd.concat([v for _, v in df_proc_dict.items()])"
   ]
  },
  {
   "source": [
    "It seems that the above method misses out alot of things, I just opted now to copy paste in a txt file the data, and do the processing from the txt file"
   ],
   "cell_type": "markdown",
   "metadata": {}
  },
  {
   "cell_type": "code",
   "execution_count": 219,
   "metadata": {},
   "outputs": [
    {
     "output_type": "execute_result",
     "data": {
      "text/plain": [
       "         barangay   hh_id  hh_size  organic  paper  plastic  metal  others  \\\n",
       "0    Capitol_Site   H/H/1        7     5.25   2.25     2.25   0.00    0.00   \n",
       "1    Capitol_Site   H/H/2        4     6.50   2.50     2.25   0.00    5.00   \n",
       "2    Capitol_Site   H/H/3        6     6.50   2.00     2.00   0.00    7.00   \n",
       "3    Capitol_Site   H/H/4        3     8.25   2.00     2.25   0.00    0.00   \n",
       "4    Capitol_Site   H/H/5        9     9.00   2.00     2.00   0.00    0.00   \n",
       "..            ...     ...      ...      ...    ...      ...    ...     ...   \n",
       "113         Quiot  H/H/15        3     1.00   1.30     0.50   0.75    1.75   \n",
       "114         Quiot  H/H/16        5     1.50   0.15     1.30   0.00    1.25   \n",
       "115         Quiot  H/H/17        4     0.75   0.50     0.15   0.15    0.80   \n",
       "116         Quiot  H/H/18        6     3.30   0.60     1.30   0.75    3.00   \n",
       "117         Quiot  H/H/19       10     1.60   1.00     1.30   0.30    2.50   \n",
       "\n",
       "     total  av_kg_per_day av_g_per_day  \n",
       "0     9.75           1.39        1,390  \n",
       "1    16.25           2.32        2,320  \n",
       "2    17.50           2.50        2,500  \n",
       "3    12.50           1.79        1,790  \n",
       "4    13.00           1.86        1,860  \n",
       "..     ...            ...          ...  \n",
       "113   5.30           0.76          760  \n",
       "114   4.20           0.60          600  \n",
       "115   2.35           0.34          340  \n",
       "116   8.95           1.28        1,280  \n",
       "117   6.70           0.96          960  \n",
       "\n",
       "[118 rows x 11 columns]"
      ],
      "text/html": "<div>\n<style scoped>\n    .dataframe tbody tr th:only-of-type {\n        vertical-align: middle;\n    }\n\n    .dataframe tbody tr th {\n        vertical-align: top;\n    }\n\n    .dataframe thead th {\n        text-align: right;\n    }\n</style>\n<table border=\"1\" class=\"dataframe\">\n  <thead>\n    <tr style=\"text-align: right;\">\n      <th></th>\n      <th>barangay</th>\n      <th>hh_id</th>\n      <th>hh_size</th>\n      <th>organic</th>\n      <th>paper</th>\n      <th>plastic</th>\n      <th>metal</th>\n      <th>others</th>\n      <th>total</th>\n      <th>av_kg_per_day</th>\n      <th>av_g_per_day</th>\n    </tr>\n  </thead>\n  <tbody>\n    <tr>\n      <th>0</th>\n      <td>Capitol_Site</td>\n      <td>H/H/1</td>\n      <td>7</td>\n      <td>5.25</td>\n      <td>2.25</td>\n      <td>2.25</td>\n      <td>0.00</td>\n      <td>0.00</td>\n      <td>9.75</td>\n      <td>1.39</td>\n      <td>1,390</td>\n    </tr>\n    <tr>\n      <th>1</th>\n      <td>Capitol_Site</td>\n      <td>H/H/2</td>\n      <td>4</td>\n      <td>6.50</td>\n      <td>2.50</td>\n      <td>2.25</td>\n      <td>0.00</td>\n      <td>5.00</td>\n      <td>16.25</td>\n      <td>2.32</td>\n      <td>2,320</td>\n    </tr>\n    <tr>\n      <th>2</th>\n      <td>Capitol_Site</td>\n      <td>H/H/3</td>\n      <td>6</td>\n      <td>6.50</td>\n      <td>2.00</td>\n      <td>2.00</td>\n      <td>0.00</td>\n      <td>7.00</td>\n      <td>17.50</td>\n      <td>2.50</td>\n      <td>2,500</td>\n    </tr>\n    <tr>\n      <th>3</th>\n      <td>Capitol_Site</td>\n      <td>H/H/4</td>\n      <td>3</td>\n      <td>8.25</td>\n      <td>2.00</td>\n      <td>2.25</td>\n      <td>0.00</td>\n      <td>0.00</td>\n      <td>12.50</td>\n      <td>1.79</td>\n      <td>1,790</td>\n    </tr>\n    <tr>\n      <th>4</th>\n      <td>Capitol_Site</td>\n      <td>H/H/5</td>\n      <td>9</td>\n      <td>9.00</td>\n      <td>2.00</td>\n      <td>2.00</td>\n      <td>0.00</td>\n      <td>0.00</td>\n      <td>13.00</td>\n      <td>1.86</td>\n      <td>1,860</td>\n    </tr>\n    <tr>\n      <th>...</th>\n      <td>...</td>\n      <td>...</td>\n      <td>...</td>\n      <td>...</td>\n      <td>...</td>\n      <td>...</td>\n      <td>...</td>\n      <td>...</td>\n      <td>...</td>\n      <td>...</td>\n      <td>...</td>\n    </tr>\n    <tr>\n      <th>113</th>\n      <td>Quiot</td>\n      <td>H/H/15</td>\n      <td>3</td>\n      <td>1.00</td>\n      <td>1.30</td>\n      <td>0.50</td>\n      <td>0.75</td>\n      <td>1.75</td>\n      <td>5.30</td>\n      <td>0.76</td>\n      <td>760</td>\n    </tr>\n    <tr>\n      <th>114</th>\n      <td>Quiot</td>\n      <td>H/H/16</td>\n      <td>5</td>\n      <td>1.50</td>\n      <td>0.15</td>\n      <td>1.30</td>\n      <td>0.00</td>\n      <td>1.25</td>\n      <td>4.20</td>\n      <td>0.60</td>\n      <td>600</td>\n    </tr>\n    <tr>\n      <th>115</th>\n      <td>Quiot</td>\n      <td>H/H/17</td>\n      <td>4</td>\n      <td>0.75</td>\n      <td>0.50</td>\n      <td>0.15</td>\n      <td>0.15</td>\n      <td>0.80</td>\n      <td>2.35</td>\n      <td>0.34</td>\n      <td>340</td>\n    </tr>\n    <tr>\n      <th>116</th>\n      <td>Quiot</td>\n      <td>H/H/18</td>\n      <td>6</td>\n      <td>3.30</td>\n      <td>0.60</td>\n      <td>1.30</td>\n      <td>0.75</td>\n      <td>3.00</td>\n      <td>8.95</td>\n      <td>1.28</td>\n      <td>1,280</td>\n    </tr>\n    <tr>\n      <th>117</th>\n      <td>Quiot</td>\n      <td>H/H/19</td>\n      <td>10</td>\n      <td>1.60</td>\n      <td>1.00</td>\n      <td>1.30</td>\n      <td>0.30</td>\n      <td>2.50</td>\n      <td>6.70</td>\n      <td>0.96</td>\n      <td>960</td>\n    </tr>\n  </tbody>\n</table>\n<p>118 rows × 11 columns</p>\n</div>"
     },
     "metadata": {},
     "execution_count": 219
    }
   ],
   "source": [
    "pd.read_csv(\"cebu_hh_survey_2011.txt\", delim_whitespace=True)"
   ]
  },
  {
   "cell_type": "code",
   "execution_count": null,
   "metadata": {},
   "outputs": [],
   "source": []
  }
 ]
}